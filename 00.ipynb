{
 "cells": [
  {
   "cell_type": "markdown",
   "id": "ead64bc7",
   "metadata": {},
   "source": [
    "### To create a circular bullet point\n",
    "1. A hyphen (-) followed by one or two spaces, for example: - Bulleted item\n",
    "2. Numbered lists\n",
    "To create a numbered list, enter 1. followed by a space"
   ]
  },
  {
   "cell_type": "markdown",
   "id": "222c167d",
   "metadata": {},
   "source": [
    "# Python Basics"
   ]
  },
  {
   "cell_type": "markdown",
   "id": "6b0455c9",
   "metadata": {},
   "source": [
    "## Strings"
   ]
  },
  {
   "cell_type": "markdown",
   "id": "f8f986cb",
   "metadata": {},
   "source": [
    "## strings are immutabe in python\n",
    " - In Python, string is a sequence of unicode characters\n",
    " - strings are immutable, meaning once a string is created, it cannot be changed"
   ]
  },
  {
   "cell_type": "code",
   "execution_count": 1,
   "id": "42e24bda",
   "metadata": {},
   "outputs": [
    {
     "name": "stdout",
     "output_type": "stream",
     "text": [
      "b\n"
     ]
    },
    {
     "ename": "TypeError",
     "evalue": "'str' object does not support item assignment",
     "output_type": "error",
     "traceback": [
      "\u001b[1;31m---------------------------------------------------------------------------\u001b[0m",
      "\u001b[1;31mTypeError\u001b[0m                                 Traceback (most recent call last)",
      "Cell \u001b[1;32mIn[1], line 4\u001b[0m\n\u001b[0;32m      1\u001b[0m name \u001b[38;5;241m=\u001b[39m \u001b[38;5;124m\"\u001b[39m\u001b[38;5;124mbaber\u001b[39m\u001b[38;5;124m\"\u001b[39m\n\u001b[0;32m      2\u001b[0m \u001b[38;5;28mprint\u001b[39m(name[\u001b[38;5;241m0\u001b[39m])\n\u001b[1;32m----> 4\u001b[0m name[\u001b[38;5;241m0\u001b[39m] \u001b[38;5;241m=\u001b[39m \u001b[38;5;124m\"\u001b[39m\u001b[38;5;124mB\u001b[39m\u001b[38;5;124m\"\u001b[39m\n\u001b[0;32m      6\u001b[0m \u001b[38;5;66;03m#we can do this\u001b[39;00m\n\u001b[0;32m      7\u001b[0m name \u001b[38;5;241m=\u001b[39m  \u001b[38;5;124m\"\u001b[39m\u001b[38;5;124mkhan\u001b[39m\u001b[38;5;124m\"\u001b[39m\n",
      "\u001b[1;31mTypeError\u001b[0m: 'str' object does not support item assignment"
     ]
    }
   ],
   "source": [
    "name = \"baber\"\n",
    "print(name[0])\n",
    "\n",
    "name[0] = \"B\"\n",
    "\n",
    "#we can do this\n",
    "name =  \"khan\""
   ]
  },
  {
   "cell_type": "markdown",
   "id": "69876110",
   "metadata": {},
   "source": [
    "### Slicing \n",
    "is a technique in Python to access a portion (substring) of a sequence such as a string, list, or tuple\n",
    "sequence[start:stop:step]\n",
    "where start is exclusive and step is optional\n"
   ]
  },
  {
   "cell_type": "code",
   "execution_count": 2,
   "id": "82ec4ed9",
   "metadata": {},
   "outputs": [
    {
     "name": "stdout",
     "output_type": "stream",
     "text": [
      "bab\n",
      "ab\n"
     ]
    }
   ],
   "source": [
    "print(name[0:3])\n",
    "print(name[1:3])"
   ]
  },
  {
   "cell_type": "markdown",
   "id": "36f098eb",
   "metadata": {},
   "source": [
    "### multiline string"
   ]
  },
  {
   "cell_type": "code",
   "execution_count": 11,
   "id": "d2df5720",
   "metadata": {},
   "outputs": [
    {
     "name": "stdout",
     "output_type": "stream",
     "text": [
      "baber raheem\n",
      "universtiy of engineering and technology mardan\n",
      "live in Swabi\n",
      "\n"
     ]
    }
   ],
   "source": [
    "information = '''baber raheem\n",
    "universtiy of engineering and technology mardan\n",
    "live in Swabi\n",
    "'''\n",
    "print(information)"
   ]
  },
  {
   "cell_type": "markdown",
   "id": "b335034f",
   "metadata": {},
   "source": [
    "### Concatenation of strings\n"
   ]
  },
  {
   "cell_type": "markdown",
   "id": "d00bfb46",
   "metadata": {},
   "source": [
    "Concatenation is the process of joining two or more strings together. In Python, you can concatenate strings using several methods:\n",
    "1. Using the + Operator\n",
    "2. Using the join() Method\n",
    "3. Using Formatted Strings (f-strings)\n",
    "4. Using the format() Method"
   ]
  },
  {
   "cell_type": "code",
   "execution_count": null,
   "id": "db378fec",
   "metadata": {},
   "outputs": [],
   "source": [
    "str1 = \"Uet\"\n",
    "str2 = \"Mardan\"\n",
    "\n",
    "# Using the + Operator\n",
    "print(str1+str2)\n",
    "\n",
    "# Using the join() Method\n",
    "strlist = [\"uet\",\"mardan\"]\n",
    "result = \" \".join(strlist)\n",
    "print(result)\n",
    "\n",
    "#using the formatted string (f-strings) \n",
    "# note: Formatted strings (f-strings) are concise and efficient, introduced in Python 3.6.\n",
    "message = f\"Hello! I am Baber Raheem Yousafzai studying in {str1}{str2}\"\n",
    "print(message)\n",
    "\n",
    "# example 2\n",
    "\n",
    "\n",
    "s1 = \"totoal universities in kpk is \"\n",
    "s2 = 25\n",
    "#print(s1+s2) #error\n",
    "\n",
    "#error due to different data type \n",
    "#lets convert the 25 to string datatype\n",
    "\n",
    "str(s2)\n",
    "print(s1+str(s2))"
   ]
  },
  {
   "cell_type": "markdown",
   "id": "ca01b993",
   "metadata": {},
   "source": [
    "### string iteration \n"
   ]
  },
  {
   "cell_type": "code",
   "execution_count": 21,
   "id": "70f5b241",
   "metadata": {},
   "outputs": [
    {
     "name": "stdout",
     "output_type": "stream",
     "text": [
      " \n",
      "            the character is not found!\n",
      "            total number of \"B\" is 2\n",
      "    \n",
      "        \n"
     ]
    }
   ],
   "source": [
    "name = \"BABAR\"\n",
    "\n",
    "#Lets we want to find the total number of \"B\" in the string name\n",
    "\n",
    "def search_character(string):\n",
    "    \n",
    "    \n",
    "    count = 0\n",
    "    for i in string:\n",
    "        \n",
    "        if i == \"B\":\n",
    "            count += 1\n",
    "            \n",
    "        \n",
    "    \n",
    "    return count\n",
    "\n",
    "\n",
    "string = \"BABER\"\n",
    "count = search_character(string)\n",
    "\n",
    "if count == 0:\n",
    "     print(\"the character is not found\")\n",
    "    \n",
    "else:\n",
    "   \n",
    "     print(f''' \n",
    "            the character is not found!\n",
    "            total number of \"B\" is {count}\n",
    "    \n",
    "        ''')"
   ]
  },
  {
   "cell_type": "markdown",
   "id": "204657e9",
   "metadata": {},
   "source": [
    "# lists(data structure)\n"
   ]
  },
  {
   "cell_type": "markdown",
   "id": "96d8ddf4",
   "metadata": {},
   "source": [
    "A list in Python is a collection of items that are ordered and mutable.\n",
    "Can have duplicate items in a list.\n",
    "Can have muliple datatype items\n",
    "Lists in Python are denoted by square brackets []."
   ]
  },
  {
   "cell_type": "code",
   "execution_count": 21,
   "id": "4c99ef05",
   "metadata": {},
   "outputs": [
    {
     "name": "stdout",
     "output_type": "stream",
     "text": [
      "5\n",
      "['bread', 'pasta', 'fruits', 'veggies', 'butter']\n",
      "['bread', 'vigitables', 'pasta', 'fruits', 'veggies', 'butter']\n",
      "['baber', 'raheem', 'shayan', 'zeshan']\n",
      "['baber', 'shayan', 'zeshan']\n",
      "1\n",
      "2\n",
      "3\n",
      "4\n",
      "5\n"
     ]
    }
   ],
   "source": [
    "my_list = [1, 2, 3, 4, 5]\n",
    "print(my_list[-1])\n",
    "mixed_list = [1, \"apple\", True, 3.14] \n",
    "items = [\"bread\",'pasta','fruits','veggies']\n",
    "\n",
    "\n",
    "# to append a new item in string list\n",
    "items.append(\"butter\")\n",
    "print(items)\n",
    "\n",
    "#let we want to move veggies to second index place in item list\n",
    "items.insert(1,\"vigitables\")\n",
    "print(items)\n",
    "\n",
    "#cancatenation of lists\n",
    "list1 = ['baber','raheem']\n",
    "list2 = ['shayan','zeshan']\n",
    "list3 = list1 + list2\n",
    "print(list3)\n",
    "\n",
    "#length of list\n",
    "len(list3)\n",
    "\n",
    "#delete an item\n",
    "del list3[1]\n",
    "print(list3)\n",
    "\n",
    "#iteration through lists\n",
    "\n",
    "for i in my_list:\n",
    "    print(i)\n"
   ]
  },
  {
   "cell_type": "markdown",
   "id": "db3240b3",
   "metadata": {},
   "source": [
    "## List comprehensions"
   ]
  },
  {
   "cell_type": "markdown",
   "id": "27b60540",
   "metadata": {},
   "source": [
    "List comprehensions provide a concise way to create lists in Python. They consist of brackets containing an expression followed by a for clause, and then optionally additional for or if clauses. List comprehensions are used to generate new lists by applying an expression to each item in a sequence or iterable.List comprehensions are a powerful feature in Python that can make your code more compact and readable.\n",
    "\n",
    "\n",
    "\n",
    "\n",
    "\n"
   ]
  },
  {
   "cell_type": "code",
   "execution_count": 8,
   "id": "2b07e2ef",
   "metadata": {},
   "outputs": [
    {
     "name": "stdout",
     "output_type": "stream",
     "text": [
      "[0, 2, 4, 6, 8]\n"
     ]
    }
   ],
   "source": [
    "# [expression for item in iterable]\n",
    "\n",
    "evens = [x for x in range(10) if x % 2 == 0]\n",
    "print(evens)"
   ]
  },
  {
   "cell_type": "markdown",
   "id": "558cd79f",
   "metadata": {},
   "source": [
    "* Other Useful Methods\n",
    "* len(): Get the number of elements in the list.\n",
    "* sort(): Sort the list.         it changes the order of the elements in the original list\n",
    "* reverse(): Reverse the order of the list.\n",
    "* index(): Find the index of an element.\n",
    "* count(): Count occurrences of an element."
   ]
  },
  {
   "cell_type": "code",
   "execution_count": 20,
   "id": "18a22537",
   "metadata": {},
   "outputs": [
    {
     "name": "stdout",
     "output_type": "stream",
     "text": [
      "[12, 12, 22, 54, 123, 232]\n",
      "[232, 123, 54, 22, 12, 12]\n",
      "3\n",
      "2\n",
      "232\n",
      "123\n",
      "54\n",
      "22\n",
      "12\n",
      "12\n"
     ]
    }
   ],
   "source": [
    "#sort()\n",
    "marks = [123, 22, 12, 12 , 232,54]\n",
    "marks.sort()\n",
    "print(marks)                     #[12, 22, 54, 123, 232]\n",
    "\n",
    "#reverse()                        \n",
    "marks.reverse()                     \n",
    "print(marks)                    #[232, 123, 54, 22, 12]\n",
    "\n",
    "index = marks.index(22)\n",
    "print(index)                    #3\n",
    "\n",
    "#count()\n",
    "count = marks.count(12)\n",
    "print(count)                    #2\n",
    "\n",
    "#iteration through list\n",
    "\n",
    "for i in marks:\n",
    "    print(i)"
   ]
  },
  {
   "cell_type": "markdown",
   "id": "8d5ea41c",
   "metadata": {},
   "source": [
    "# Tuples\n",
    "- tuples is similar to list \n",
    "- tuples are immutable where the lists are mutable\n"
   ]
  },
  {
   "cell_type": "code",
   "execution_count": 8,
   "id": "3625c9b5",
   "metadata": {},
   "outputs": [
    {
     "name": "stdout",
     "output_type": "stream",
     "text": [
      "(1, 2, 3, 4)\n",
      "(1, 2, 'ali', 3, 'four', 'c')\n",
      "(1, 2, 3, (4, 5, [6, 7, 8]))\n",
      "('ali',)\n"
     ]
    },
    {
     "data": {
      "text/plain": [
       "tuple"
      ]
     },
     "execution_count": 8,
     "metadata": {},
     "output_type": "execute_result"
    }
   ],
   "source": [
    "#empty tuple\n",
    "\n",
    "tpl = ()\n",
    "\n",
    "#having intergers\n",
    "\n",
    "tpl1 = (1,2,3,4)\n",
    "print(tpl1)\n",
    "\n",
    "#having mixed datatype\n",
    "\n",
    "tpl2 = (1,2,\"ali\",3,\"four\",'c')\n",
    "print(tpl2)\n",
    "\n",
    "#nested tuple\n",
    "nest_tuple = (1,2,3,(4,5,[6,7,8]))\n",
    "print(nest_tuple)\n",
    "\n",
    "test_t = (\"ali\") #this will be considere as string\n",
    "test_t = (\"ali\",) #this will be considere as tuple as the perenteces does't matter\n",
    "print(test_t)\n",
    "type(test_t)     "
   ]
  },
  {
   "cell_type": "markdown",
   "id": "b5cc75be",
   "metadata": {},
   "source": [
    "# accessing the elements of tuple"
   ]
  },
  {
   "cell_type": "code",
   "execution_count": 28,
   "id": "ddcc6209",
   "metadata": {},
   "outputs": [
    {
     "name": "stdout",
     "output_type": "stream",
     "text": [
      "1\n",
      "2\n",
      "ali\n",
      "3\n",
      "four\n",
      "c\n",
      "(1, 2, [3, 4])\n",
      "[3, 4]\n",
      "4\n"
     ]
    }
   ],
   "source": [
    "tpl2 = (1,2,\"ali\",3,\"four\",'c')\n",
    "tpl = (1,2,3)\n",
    "for items in tpl2:\n",
    "    print(items)\n",
    "    \n",
    "#to iterate through nested tuple\n",
    "n_tuple = (1,2,[3,4])\n",
    "print(n_tuple[:3])\n",
    "\n",
    "#to iterate through list\n",
    "\n",
    "print(n_tuple[2])\n",
    "print(n_tuple[2][1])  #4\n"
   ]
  },
  {
   "cell_type": "markdown",
   "id": "0ea9f511",
   "metadata": {},
   "source": [
    "\n",
    "## deleting tuple \n",
    "- we can not delete an item from tuple bc tuples are immutable unlike a list\n",
    "- we have to dele the entire tuple"
   ]
  },
  {
   "cell_type": "code",
   "execution_count": 33,
   "id": "aab24e02",
   "metadata": {},
   "outputs": [
    {
     "name": "stdout",
     "output_type": "stream",
     "text": [
      "(1, 4, 3, 2)\n",
      "[1, 2, 3, 4]\n"
     ]
    }
   ],
   "source": [
    "tpl = [1,2,3]\n",
    "del(tpl)\n",
    "\n",
    "#sorting the tuple\n",
    "t1 = (1,4,3,2)\n",
    "t1_sort = sorted(t1)\n",
    "print(t1)\n",
    "print(t1_sort)"
   ]
  },
  {
   "cell_type": "code",
   "execution_count": null,
   "id": "f296d80f",
   "metadata": {},
   "outputs": [],
   "source": []
  }
 ],
 "metadata": {
  "kernelspec": {
   "display_name": "Python 3 (ipykernel)",
   "language": "python",
   "name": "python3"
  },
  "language_info": {
   "codemirror_mode": {
    "name": "ipython",
    "version": 3
   },
   "file_extension": ".py",
   "mimetype": "text/x-python",
   "name": "python",
   "nbconvert_exporter": "python",
   "pygments_lexer": "ipython3",
   "version": "3.11.3"
  }
 },
 "nbformat": 4,
 "nbformat_minor": 5
}
