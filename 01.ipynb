{
 "cells": [
  {
   "cell_type": "markdown",
   "id": "d1e5a555",
   "metadata": {},
   "source": [
    "## problem\n",
    "write a program that ask the user to enter dish name and it should print which country this dish is belongs to."
   ]
  },
  {
   "cell_type": "code",
   "execution_count": 2,
   "id": "12defb83",
   "metadata": {},
   "outputs": [
    {
     "name": "stdout",
     "output_type": "stream",
     "text": [
      "enter your favouit food name: dog fish\n",
      "The food which you select is belong to chaines food.\n"
     ]
    }
   ],
   "source": [
    "Pakistani = ['samoca','beryani','chaei']\n",
    "Indian = ['pasta','makroni']\n",
    "chaines = ['dog fish','alcohal','chiekan soop']\n",
    "\n",
    "user_choice = input(\"enter your favouit food name: \")\n",
    "if user_choice in Pakistani:\n",
    "    print(\"The food which you select is belong to Paksitani food.\")\n",
    "    \n",
    "elif user_choice in Indian:\n",
    "    print(\"The food which you select is belong to Indian food.\")\n",
    "    \n",
    "elif user_choice in chaines:\n",
    "    print(\"The food which you select is belong to chaines food.\")\n",
    "    \n",
    "else:\n",
    "    print(\"I dont have proper information about it .\")"
   ]
  },
  {
   "cell_type": "markdown",
   "id": "393cfbc2",
   "metadata": {},
   "source": [
    "## problem 02\n",
    "print month numer , expences and total expences"
   ]
  },
  {
   "cell_type": "code",
   "execution_count": 6,
   "id": "13f96bc5",
   "metadata": {},
   "outputs": [
    {
     "name": "stdout",
     "output_type": "stream",
     "text": [
      "Month 1 Expense: 2345\n",
      "Month 2 Expense: 5433\n",
      "Month 3 Expense: 3422\n",
      "Month 4 Expense: 6543\n",
      "Total Expenses =  17743\n"
     ]
    }
   ],
   "source": [
    "expense = [2345,5433,3422,6543]\n",
    "total_expenses = 0\n",
    "\n",
    "for i in range(len(expense)):\n",
    "# for i in expense:\n",
    "    total_expenses += expense[i]\n",
    "    print(\"Month\",(i+1),\"Expense:\",expense[i]) \n",
    "\n",
    "print(\"Total Expenses = \", total_expenses)\n",
    "    \n",
    "    "
   ]
  },
  {
   "cell_type": "markdown",
   "id": "81765b00",
   "metadata": {},
   "source": [
    "## problem 03\n",
    "print square of numbers bw 1 to 5 except even numbers. use of continue keyword"
   ]
  },
  {
   "cell_type": "code",
   "execution_count": 10,
   "id": "7f68d85d",
   "metadata": {},
   "outputs": [
    {
     "name": "stdout",
     "output_type": "stream",
     "text": [
      "1\n",
      "9\n"
     ]
    }
   ],
   "source": [
    "for i in range(1,5):\n",
    "    if i%2 == 0:\n",
    "        continue\n",
    "    print(i*i)"
   ]
  },
  {
   "cell_type": "code",
   "execution_count": null,
   "id": "1a473c8b",
   "metadata": {},
   "outputs": [],
   "source": []
  }
 ],
 "metadata": {
  "kernelspec": {
   "display_name": "Python 3 (ipykernel)",
   "language": "python",
   "name": "python3"
  },
  "language_info": {
   "codemirror_mode": {
    "name": "ipython",
    "version": 3
   },
   "file_extension": ".py",
   "mimetype": "text/x-python",
   "name": "python",
   "nbconvert_exporter": "python",
   "pygments_lexer": "ipython3",
   "version": "3.11.3"
  }
 },
 "nbformat": 4,
 "nbformat_minor": 5
}
