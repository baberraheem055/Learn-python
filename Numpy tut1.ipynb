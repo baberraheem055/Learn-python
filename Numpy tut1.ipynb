{
 "cells": [
  {
   "cell_type": "markdown",
   "id": "76ab250a",
   "metadata": {},
   "source": [
    "## NumPy\n",
    "- short for Numerical Python, is a powerful library for numerical computing in Python. It provides support for arrays, matrices, and many mathematical functions to operate on these data structures efficiently\n",
    "- Performance:\n",
    "  - Operations on NumPy arrays are more efficient than operations on standard Python lists, especially for large datasets. \n",
    "  - This efficiency comes from the fact that NumPy is implemented in C, and its arrays use contiguous memory blocks.\n",
    "  - FAST\n",
    "  - Convenient (alots of functionalities)\n",
    "  - less Memory\n",
    "  \n",
    "- Broadcasting: NumPy allows operations on arrays of different shapes, making it very flexible and powerful.\n",
    "\n",
    "- Integration: It can be easily integrated with other libraries, such as SciPy, Pandas, and Matplotlib, to enhance its functionality"
   ]
  },
  {
   "cell_type": "code",
   "execution_count": 2,
   "id": "962c62bd",
   "metadata": {},
   "outputs": [
    {
     "data": {
      "text/plain": [
       "array([1, 2, 3])"
      ]
     },
     "execution_count": 2,
     "metadata": {},
     "output_type": "execute_result"
    }
   ],
   "source": [
    "import numpy as np\n",
    "arr = np.array([1,2,3])\n",
    "arr"
   ]
  },
  {
   "cell_type": "code",
   "execution_count": 29,
   "id": "9bab1910",
   "metadata": {},
   "outputs": [
    {
     "name": "stdout",
     "output_type": "stream",
     "text": [
      "the shape of arr is (3, 3)\n"
     ]
    }
   ],
   "source": [
    "#flaot array\n",
    "\n",
    "arr = np.array([[1,2,3],[4,5,6],[3,2,1]], dtype = np.float64)  #float64 (8 bytes per element).\n",
    "arr\n",
    "\n",
    "#complex datatype\n",
    "\n",
    "arr = np.array([[1,2,3],[4,5,6],[3,2,1]], dtype = complex)  #float64 (8 bytes per element).\n",
    "arr\n",
    "print(\"the shape of arr is\",arr.shape)"
   ]
  },
  {
   "cell_type": "markdown",
   "id": "c66467da",
   "metadata": {},
   "source": [
    "### why we use numpy array instead of python list\n",
    "- because numpy array take less size\\\n"
   ]
  },
  {
   "cell_type": "code",
   "execution_count": 10,
   "id": "8da4a66c",
   "metadata": {},
   "outputs": [
    {
     "name": "stdout",
     "output_type": "stream",
     "text": [
      "space occupy by python list is 28000\n",
      "space occupy by numpy array is 4000\n"
     ]
    }
   ],
   "source": [
    "import time \n",
    "import sys\n",
    "\n",
    "#python list\n",
    "pylist = range(1000)\n",
    "print(\"space occupy by python list is\",sys.getsizeof(0)*len(pylist))\n",
    "\n",
    "#let check how many space take by array\n",
    "np_array = np.arange(1000)\n",
    "print(\"space occupy by numpy array is\",np_array.size*np_array.itemsize)"
   ]
  },
  {
   "cell_type": "markdown",
   "id": "512ae69e",
   "metadata": {},
   "source": [
    "## 2-dimensional (2D) array\n",
    "- A 2-dimensional (2D) array, also known as a matrix, is a collection of elements arranged in rows and columns, forming a grid-like structure. In Python's NumPy library, a 2D array is essentially an array of arrays where each sub-array represents a row in the matrix.\n",
    "\n",
    "\n",
    "### Characteristics of a 2D Array\n",
    "- Rows and Columns: \n",
    "  - It consists of multiple rows and columns. The number of rows and columns can vary, but each row must have the same number of columns for it to be considered a proper 2D array.\n",
    "  - Shape: The shape of a 2D array is described by a tuple (n, m), where n is the number of rows and m is the number of column"
   ]
  },
  {
   "cell_type": "code",
   "execution_count": 21,
   "id": "b0091b7b",
   "metadata": {},
   "outputs": [
    {
     "name": "stdout",
     "output_type": "stream",
     "text": [
      "the shape of the matix is  (3, 3)\n"
     ]
    },
    {
     "data": {
      "text/plain": [
       "array([[11, 12, 13],\n",
       "       [14, 15, 16],\n",
       "       [17, 18, 19]])"
      ]
     },
     "execution_count": 21,
     "metadata": {},
     "output_type": "execute_result"
    }
   ],
   "source": [
    "#2d array\n",
    "\n",
    "arr1_2d = np.array([[1,2,3],[4,5,6],[7,8,9]])\n",
    "arr2_2d = np.array([[1,2,3],[4,5,6],[7,8,9]])\n",
    "\n",
    "a = arr1_2d\n",
    "b = arr2_2d\n",
    "\n",
    "\n",
    "#operations\n",
    "#shape\n",
    "\n",
    "print(\"the shape of the matix is \",a.shape)\n",
    "\n",
    "#Element-wise Addition\n",
    "a = arr1_2d + 10\n",
    "\n",
    "\n",
    "#Matrix Multiplication (dot product)\n",
    "dotpro = np.dot()\n"
   ]
  },
  {
   "cell_type": "markdown",
   "id": "0da0ebb0",
   "metadata": {},
   "source": [
    "## Multidimentional Array\n",
    "- Multidimensional arrays are a core feature of NumPy and are commonly used in scientific computing, data analysis, and machine learning. NumPy provides a powerful set of tools for creating, manipulating, and performing operations on multidimensional arrays.\n",
    "- Multidimensional arrays are an extension of 2-D matrices and use additional subscripts for indexing. A 3-D array, for example, uses three subscripts. The first two are just like a matrix, but the third dimension represents pages or sheets of elements.\n",
    "\n"
   ]
  },
  {
   "cell_type": "code",
   "execution_count": 7,
   "id": "cc729343",
   "metadata": {},
   "outputs": [
    {
     "data": {
      "text/plain": [
       "(2, 3, 3)"
      ]
     },
     "execution_count": 7,
     "metadata": {},
     "output_type": "execute_result"
    }
   ],
   "source": [
    "import numpy as np\n",
    "arr_3d = np.array([[[1,2,3],[4,2,5],[1,3,2]],[[1,3,1],[3,1,4],[5,2,4]]])\n",
    "arr_3d.shape\n",
    "\n",
    "\n",
    "#randomly\n",
    "arr_3d_random = np.random.rand(3,4,5)\n",
    "arr_3d_random"
   ]
  },
  {
   "cell_type": "markdown",
   "id": "d28595c9",
   "metadata": {},
   "source": [
    "# Matrix Multiplication \n",
    "\n",
    "## Element-wise Multiplication:\n",
    "- Multiplies each corresponding element of two arrays.\n",
    "- Uses the * operator.\n",
    "- Arrays must have the same shape.\n",
    "\n",
    "## Dot Product (Matrix Multiplication):\n",
    "- computes the matrix product of two arrays.\n",
    "- Uses the np.dot() function or the @ operator.\n",
    "- Follows matrix multiplication rules where the number of columns in the first matrix must equal the number of rows in the second matrix."
   ]
  },
  {
   "cell_type": "code",
   "execution_count": 24,
   "id": "d2a38cc3",
   "metadata": {},
   "outputs": [
    {
     "name": "stdout",
     "output_type": "stream",
     "text": [
      "element wise multiplication is \n",
      " [[ 4  2  9]\n",
      " [16 10 36]\n",
      " [49  8 27]]\n"
     ]
    }
   ],
   "source": [
    "#Element-wise Multiplication:\n",
    "\n",
    "a = np.array([[1,2,3],[4,5,6],[7,8,9]])\n",
    "b = np.array([[4,1,3],[4,2,6],[7,1,3]])\n",
    "print(\"element wise multiplication is \\n\",a*b)"
   ]
  },
  {
   "cell_type": "code",
   "execution_count": 30,
   "id": "90ad4c4b",
   "metadata": {},
   "outputs": [
    {
     "name": "stdout",
     "output_type": "stream",
     "text": [
      "the dot product of matrix a and b is \n",
      " [[33  8 24]\n",
      " [78 20 60]]\n"
     ]
    }
   ],
   "source": [
    "# Dot Product (Matrix Multiplication):\n",
    "\n",
    "a = np.array([[1,2,3],[4,5,6]])             # no of columns of first matrix == no of rows of second matrix \n",
    "b = np.array([[4,1,3],[4,2,6],[7,1,3]])\n",
    "dot_pro = np.dot(a,b)\n",
    "print(f\"the dot product of matrix a and b is \\n {dot_pro}\")\n"
   ]
  },
  {
   "cell_type": "markdown",
   "id": "1fc60ee0",
   "metadata": {},
   "source": [
    "## vectorize vs non vectorize \n"
   ]
  },
  {
   "cell_type": "code",
   "execution_count": 28,
   "id": "16c35450",
   "metadata": {},
   "outputs": [
    {
     "name": "stdout",
     "output_type": "stream",
     "text": [
      "10.000467300415039 ms\n",
      "time taken through non _vectorize version10.000467300415039 ms\n"
     ]
    }
   ],
   "source": [
    "import numpy as np\n",
    "import time \n",
    "\n",
    "x = np.random.rand(10000000)\n",
    "w = np.random.rand(10000000)\n",
    "t = time.time()\n",
    "z = np.dot(w,x)\n",
    "b = 0\n",
    "\n",
    "duration = time.time() - t\n",
    "print(f\"{duration* 1000} ms\")\n",
    "\n",
    "#non vectorize \n",
    "\n",
    "t1 = time.time()\n",
    "for i in range(len(x)):\n",
    "    z = 0\n",
    "    z += w[i] * x[i]\n",
    "z += b\n",
    "\n",
    "duration1 = time.time() - t1\n",
    "print(f\"time taken through non _vectorize version{duration* 1000} ms\")\n",
    "#time taken through non _vectorize version 1.1449713706970215\n"
   ]
  },
  {
   "cell_type": "code",
   "execution_count": 39,
   "id": "99b5f150",
   "metadata": {},
   "outputs": [
    {
     "data": {
      "text/plain": [
       "array([[1, 1, 1],\n",
       "       [1, 1, 1],\n",
       "       [1, 1, 1]], dtype=int64)"
      ]
     },
     "execution_count": 39,
     "metadata": {},
     "output_type": "execute_result"
    }
   ],
   "source": [
    "#zero array\n",
    "x =  np.zeros((3,2),dtype = np.int64)\n",
    "x\n",
    "\n",
    "#one's array\n",
    "x1 = np.ones((3,3) , dtype = np.int64)\n",
    "x1\n"
   ]
  },
  {
   "cell_type": "code",
   "execution_count": 41,
   "id": "9bd3c28d",
   "metadata": {},
   "outputs": [
    {
     "data": {
      "text/plain": [
       "array([0, 1, 2, 3, 4, 5, 6, 7, 8, 9])"
      ]
     },
     "execution_count": 41,
     "metadata": {},
     "output_type": "execute_result"
    }
   ],
   "source": [
    "x2 = np.arange(10)\n",
    "x2"
   ]
  },
  {
   "cell_type": "markdown",
   "id": "1a81dd8d",
   "metadata": {},
   "source": [
    "## np.char module in NumPy \n",
    "-  The np.char module in NumPy provides a collection of vectorized string operations, allowing you to perform string   operations on entire arrays of strings efficiently. These functions are particularly useful for handling and manipulating large arrays of strings without needing explicit loops. Here are some of the key functions provided by np.char:"
   ]
  },
  {
   "cell_type": "code",
   "execution_count": 58,
   "id": "fbce461d",
   "metadata": {},
   "outputs": [
    {
     "name": "stdout",
     "output_type": "stream",
     "text": [
      "concatination of two string arrays : ['baberRaheem' 'shayanRaheem']\n",
      "-------hello--------\n",
      "['baberbaber' 'shayanshayan']\n",
      "Baber\n",
      "This Is Numpy Tutorial\n",
      "baber raheem\n",
      "BABER RAHEEM\n",
      "[list(['hello', 'world']) list(['welcome']) list(['congratulation'])]\n",
      "['hell0 w0rld! h0w are y0u d0ing t0day']\n"
     ]
    }
   ],
   "source": [
    "#1 np.char.add():\n",
    "F_name = np.array([\"baber\",\"shayan\"])\n",
    "L_name = np.array([\"Raheem\",\"Raheem\"])\n",
    "print(\"concatination of two string arrays :\",np.char.add(F_name,L_name))  #concatination of two string arrays : ['baberRaheem' 'shayanRaheem']\n",
    "\n",
    "#2 np.char.center():\n",
    "print(np.char.center(\"hello\",20,fillchar = \"-\"))   #-------hello--------\n",
    "\n",
    "#3 np.char.multiply():\n",
    "print(np.char.multiply(F_name,2))                 #['baberbaber' 'shayanshayan']\n",
    "\n",
    "#4 np.char.capitalize():\n",
    "print(np.char.capitalize(\"baber\"))                #Baber\n",
    "\n",
    "#5 np.char.title():\n",
    "print(np.char.title(\"This is numpy tutorial\"))   #This Is Numpy Tutorial\n",
    "\n",
    "#6 np.char.lower():\n",
    "print(np.char.lower(\"BABER RAHEEM\"))             #baber raheem\n",
    "\n",
    "#7 np.char.upper(): \n",
    "print(np.char.upper(\"baber raheem\"))             #BABER RAHEEM\n",
    "\n",
    "#8 np.char.split():\n",
    "arr = np.array([\"hello world\",\"welcome\",\"congratulation\"])\n",
    "print(np.char.split(arr)) #[list(['hello', 'world']) list(['welcome']) list(['congratulation'])]\n",
    "\n",
    "#9 np.char.replace()\n",
    "print(np.char.replace(np.array([\"hello world! how are you doing today\"]),\"o\", \"0\"))"
   ]
  },
  {
   "cell_type": "code",
   "execution_count": null,
   "id": "222db47d",
   "metadata": {},
   "outputs": [],
   "source": []
  }
 ],
 "metadata": {
  "kernelspec": {
   "display_name": "Python 3 (ipykernel)",
   "language": "python",
   "name": "python3"
  },
  "language_info": {
   "codemirror_mode": {
    "name": "ipython",
    "version": 3
   },
   "file_extension": ".py",
   "mimetype": "text/x-python",
   "name": "python",
   "nbconvert_exporter": "python",
   "pygments_lexer": "ipython3",
   "version": "3.11.3"
  }
 },
 "nbformat": 4,
 "nbformat_minor": 5
}
