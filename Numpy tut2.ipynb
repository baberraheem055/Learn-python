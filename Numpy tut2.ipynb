{
 "cells": [
  {
   "cell_type": "markdown",
   "id": "26c953fd",
   "metadata": {},
   "source": [
    "## Array Multiplication & Reshaping"
   ]
  },
  {
   "cell_type": "code",
   "execution_count": 5,
   "id": "a42e5a2a",
   "metadata": {},
   "outputs": [
    {
     "data": {
      "text/plain": [
       "array([0, 1, 2, 3, 4, 5, 6, 7, 8])"
      ]
     },
     "execution_count": 5,
     "metadata": {},
     "output_type": "execute_result"
    }
   ],
   "source": [
    "import numpy as np\n",
    "x = np.arange(9)\n",
    "x"
   ]
  },
  {
   "cell_type": "code",
   "execution_count": 6,
   "id": "d6edb788",
   "metadata": {},
   "outputs": [
    {
     "data": {
      "text/plain": [
       "array([[0, 1, 2],\n",
       "       [3, 4, 5],\n",
       "       [6, 7, 8]])"
      ]
     },
     "execution_count": 6,
     "metadata": {},
     "output_type": "execute_result"
    }
   ],
   "source": [
    "#1D to 2D array\n",
    "x_mod = x.reshape(3,3)\n",
    "x_mod "
   ]
  },
  {
   "cell_type": "code",
   "execution_count": 10,
   "id": "e7840070",
   "metadata": {},
   "outputs": [
    {
     "name": "stdout",
     "output_type": "stream",
     "text": [
      "[0 1 2 3 4 5 6 7 8]\n"
     ]
    }
   ],
   "source": [
    "x_mod.shape\n",
    "\n",
    "#to flate the array again\n",
    "#The flatten() method returns a copy of the array collapsed into one dimension.\n",
    "print(x_mod.flatten())\n"
   ]
  },
  {
   "cell_type": "code",
   "execution_count": 2,
   "id": "81c58f6c",
   "metadata": {},
   "outputs": [
    {
     "name": "stdout",
     "output_type": "stream",
     "text": [
      "[[0 1 2]\n",
      " [3 4 5]\n",
      " [6 7 8]]\n",
      "[0 1 2 3 4 5 6 7 8]\n"
     ]
    }
   ],
   "source": [
    "import numpy as np\n",
    "# ravel():\n",
    "# The ravel() function returns a contiguous flattened array. Unlike flatten(), ravel() returns a view whenever possible.\n",
    "x_1 = np.arange(9).reshape(3,3)\n",
    "\n",
    "print(x_1)\n",
    "\n",
    "result = x_1.ravel()\n",
    "print(result)\n"
   ]
  },
  {
   "cell_type": "code",
   "execution_count": 20,
   "id": "e7504d71",
   "metadata": {},
   "outputs": [
    {
     "name": "stdout",
     "output_type": "stream",
     "text": [
      "[[1 2 3]\n",
      " [4 6 1]]\n",
      "traspose of matrix\n",
      "[[1 4]\n",
      " [2 6]\n",
      " [3 1]]\n"
     ]
    }
   ],
   "source": [
    "#Transpose of an array or matrix\n",
    "matrix = np.array([[1,2,3],[4,6,1]])\n",
    "print(matrix)\n",
    "\n",
    "print(\"traspose of matrix\")\n",
    "print(matrix.T)"
   ]
  },
  {
   "cell_type": "code",
   "execution_count": 24,
   "id": "c1ede97c",
   "metadata": {},
   "outputs": [
    {
     "name": "stdout",
     "output_type": "stream",
     "text": [
      "after resize [[1 2]\n",
      " [3 4]\n",
      " [6 1]]\n"
     ]
    }
   ],
   "source": [
    "#The resize() function changes the shape and size of the array in-place.\n",
    "#note it modifiy the orignal array\n",
    "\n",
    "matrix = np.array([[1,2,3],[4,6,1]])\n",
    "matrix.resize((3,2))\n",
    "print(\"after resize\",matrix)"
   ]
  },
  {
   "cell_type": "markdown",
   "id": "de9eeaa6",
   "metadata": {},
   "source": [
    "## Numpy Arithmatic Operations"
   ]
  },
  {
   "cell_type": "code",
   "execution_count": 25,
   "id": "f630d6b8",
   "metadata": {},
   "outputs": [
    {
     "name": "stdout",
     "output_type": "stream",
     "text": [
      "[[ 0  2  4]\n",
      " [ 6  8 10]\n",
      " [12 14 16]]\n"
     ]
    }
   ],
   "source": [
    "#addition\n",
    "\n",
    "x = np.arange(9).reshape(3,3)\n",
    "y = np.arange(9).reshape(3,3)\n",
    "\n",
    "addition = np.add(x,y)\n",
    "print(addition)"
   ]
  },
  {
   "cell_type": "code",
   "execution_count": 27,
   "id": "a3cb49bf",
   "metadata": {},
   "outputs": [
    {
     "name": "stdout",
     "output_type": "stream",
     "text": [
      "[[0 0 0]\n",
      " [0 0 0]\n",
      " [0 0 0]]\n"
     ]
    }
   ],
   "source": [
    "#Subtraction:\n",
    "sub = np.subtract(x,y)\n",
    "print(sub)"
   ]
  },
  {
   "cell_type": "code",
   "execution_count": 29,
   "id": "a3f9c69e",
   "metadata": {},
   "outputs": [
    {
     "name": "stdout",
     "output_type": "stream",
     "text": [
      "[[ 0  1  4]\n",
      " [ 9 16 25]\n",
      " [36 49 64]]\n"
     ]
    }
   ],
   "source": [
    "#multiplication\n",
    "mul = np.multiply(x,y)\n",
    "print(mul)"
   ]
  },
  {
   "cell_type": "code",
   "execution_count": 30,
   "id": "8c01502b",
   "metadata": {},
   "outputs": [
    {
     "name": "stdout",
     "output_type": "stream",
     "text": [
      "[[nan  1.  1.]\n",
      " [ 1.  1.  1.]\n",
      " [ 1.  1.  1.]]\n"
     ]
    },
    {
     "name": "stderr",
     "output_type": "stream",
     "text": [
      "C:\\Users\\Babar Raheem\\AppData\\Local\\Temp\\ipykernel_11056\\2307280885.py:2: RuntimeWarning: invalid value encountered in divide\n",
      "  div = np.divide(x,y)\n"
     ]
    }
   ],
   "source": [
    "#divide\n",
    "div = np.divide(x,y)\n",
    "print(div)"
   ]
  },
  {
   "cell_type": "code",
   "execution_count": 31,
   "id": "231f32ca",
   "metadata": {},
   "outputs": [
    {
     "name": "stdout",
     "output_type": "stream",
     "text": [
      "36\n"
     ]
    }
   ],
   "source": [
    "#Summation:\n",
    "result = np.sum(x)\n",
    "print(result)"
   ]
  },
  {
   "cell_type": "markdown",
   "id": "2cdcbf4c",
   "metadata": {},
   "source": [
    "## joining arrays in numpy\n",
    "--note : In numpy, axis=0 refers to rows, and axis=1 refers to columns."
   ]
  },
  {
   "cell_type": "code",
   "execution_count": 24,
   "id": "37aa073c",
   "metadata": {},
   "outputs": [
    {
     "name": "stdout",
     "output_type": "stream",
     "text": [
      "first array  [[3 8 7]\n",
      " [7 8 5]]\n",
      "\n",
      "\n",
      "second array [[4 9 8]\n",
      " [0 5 0]]\n",
      "\n",
      "\n",
      "concatenate array at axis =1\n",
      "[[3 8 7 4 9 8]\n",
      " [7 8 5 0 5 0]]\n",
      "the size of the concatenate array () is (2, 6)\n",
      "concatenate array at axis =0\n",
      "[[3 8 7]\n",
      " [7 8 5]\n",
      " [4 9 8]\n",
      " [0 5 0]]\n",
      "the size of the concatenate array  is (4, 3)\n"
     ]
    }
   ],
   "source": [
    "# arr1 = np.random.randint(2,3)\n",
    "arr1 = np.random.randint(0, 10, size=(2, 3))\n",
    "print(\"first array \", arr1)\n",
    "\n",
    "print(\"\\n\")\n",
    "\n",
    "arr2 = np.random.randint(0,10,(2,3))\n",
    "print(\"second array\",arr2)\n",
    "\n",
    "print(\"\\n\")\n",
    "\n",
    "print(\"concatenate array at axis =1\")\n",
    "con_arr = np.concatenate((arr1,arr2), axis = 1)   #column wise \n",
    "print(con_arr)\n",
    "print(\"the size of the concatenate array () is\" , con_arr.shape)\n",
    "\n",
    "\n",
    "print(\"concatenate array at axis =0\")\n",
    "con_arr = np.concatenate((arr1,arr2), axis = 0)   #row wise \n",
    "print(con_arr)\n",
    "print(\"the size of the concatenate array  is\" , con_arr.shape)\n"
   ]
  },
  {
   "cell_type": "markdown",
   "id": "f4a2d1e4",
   "metadata": {},
   "source": [
    "# Reshaping and Resizing an array\n",
    "\n",
    "## Reshape: \n",
    "- Changes the shape of an array without altering its data and keeps the total number of elements the same. It does not modify the original array.\n",
    "- reshaped_arr = arr.reshape((new_shape))"
   ]
  },
  {
   "cell_type": "code",
   "execution_count": null,
   "id": "18621276",
   "metadata": {},
   "outputs": [],
   "source": [
    "#Reshaping..\n",
    "\n",
    "import numpy as np\n",
    "\n",
    "# Original array\n",
    "arr = np.array([[1, 2, 3], [4, 5, 6]])\n",
    "\n",
    "# Reshape to 3x2\n",
    "reshaped_arr = arr.reshape((3, 2))\n",
    "print(\"Reshaped array:\\n\", reshaped_arr)\n"
   ]
  },
  {
   "cell_type": "markdown",
   "id": "fc10b3cb",
   "metadata": {},
   "source": [
    "## Resizing \n",
    "- Resize: Changes the shape and potentially the size of an array, modifying the original array. It fills new elements with zeros if the size increases and truncates elements if the size decreases."
   ]
  },
  {
   "cell_type": "code",
   "execution_count": 35,
   "id": "7f16ffe3",
   "metadata": {},
   "outputs": [
    {
     "name": "stdout",
     "output_type": "stream",
     "text": [
      "[[0 6 1]\n",
      " [0 7 2]]\n",
      "\n",
      "\n",
      "after resizing the array\n",
      "[[0 6 1]\n",
      " [0 7 2]\n",
      " [0 6 1]]\n"
     ]
    }
   ],
   "source": [
    "arr1 = np.random.randint(0, 10, (2,3))\n",
    "print(arr1) \n",
    "\n",
    "#resizing \n",
    "print(\"\\n\")\n",
    "print(\"after resizing the array\")\n",
    "update_arr1 = np.resize(arr1,(3,3))\n",
    "print(update_arr1)"
   ]
  },
  {
   "cell_type": "markdown",
   "id": "33a20540",
   "metadata": {},
   "source": [
    "# sqrt() and standard deviation"
   ]
  },
  {
   "cell_type": "code",
   "execution_count": 43,
   "id": "582cc642",
   "metadata": {},
   "outputs": [
    {
     "name": "stdout",
     "output_type": "stream",
     "text": [
      "[[1.         1.41421356 1.73205081]\n",
      " [2.         2.23606798 1.73205081]]\n"
     ]
    }
   ],
   "source": [
    "arr1 = np.array([[1,2,3],[4,5,3]])\n",
    "arr1\n",
    "sqr_arr = np.sqrt(arr1)\n",
    "print(sqr_arr)"
   ]
  },
  {
   "cell_type": "code",
   "execution_count": 45,
   "id": "6c41d63c",
   "metadata": {},
   "outputs": [
    {
     "name": "stdout",
     "output_type": "stream",
     "text": [
      "standard deviation\n",
      "1.2909944487358056\n"
     ]
    }
   ],
   "source": [
    "#standard deviation \n",
    "print(\"standard deviation\")\n",
    "standard_dev = np.std(arr1)\n",
    "print(standard_dev)"
   ]
  },
  {
   "cell_type": "code",
   "execution_count": 46,
   "id": "d86039e7",
   "metadata": {},
   "outputs": [
    {
     "name": "stdout",
     "output_type": "stream",
     "text": [
      "Mean: 3.0\n",
      "Squared Differences: [4. 1. 0. 1. 4.]\n",
      "Variance: 2.0\n",
      "Standard Deviation: 1.4142135623730951\n"
     ]
    }
   ],
   "source": [
    "#calculating standard deviation manually\n",
    "import numpy as np\n",
    "\n",
    "# Create an array\n",
    "arr = np.array([1, 2, 3, 4, 5])\n",
    "\n",
    "# Step 1: Compute the mean\n",
    "mean = np.mean(arr)\n",
    "print(\"Mean:\", mean)\n",
    "\n",
    "# Step 2: Compute squared differences\n",
    "squared_diffs = (arr - mean) ** 2\n",
    "print(\"Squared Differences:\", squared_diffs)\n",
    "\n",
    "# Step 3: Compute the mean of squared differences (variance)\n",
    "variance = np.mean(squared_diffs)\n",
    "print(\"Variance:\", variance)\n",
    "\n",
    "# Step 4: Take the square root of the variance (standard deviation)\n",
    "std_dev = np.sqrt(variance)\n",
    "print(\"Standard Deviation:\", std_dev)\n"
   ]
  },
  {
   "cell_type": "markdown",
   "id": "ad8db168",
   "metadata": {},
   "source": [
    "# log\n"
   ]
  },
  {
   "cell_type": "code",
   "execution_count": 48,
   "id": "4adb9bc7",
   "metadata": {},
   "outputs": [
    {
     "name": "stdout",
     "output_type": "stream",
     "text": [
      "[0.         0.30103    0.47712125 0.60205999 0.69897   ]\n",
      "[0.         1.         1.5849625  2.         2.32192809]\n"
     ]
    }
   ],
   "source": [
    "arr = np.array([1, 2, 3, 4, 5])\n",
    "print(np.log10(arr))\n",
    "\n",
    "#we can find log2\n",
    "print(np.log2(arr))"
   ]
  },
  {
   "cell_type": "code",
   "execution_count": 3,
   "id": "1ee8cce1",
   "metadata": {},
   "outputs": [
    {
     "name": "stdout",
     "output_type": "stream",
     "text": [
      "[[0.91630307 0.51024134 0.59217186 0.85181405 0.23019516 0.03836796\n",
      "  0.85304011 0.94675704 0.09667946 0.81823535]\n",
      " [0.1752362  0.99163931 0.06141615 0.12236425 0.35944816 0.98342579\n",
      "  0.64850474 0.62703238 0.65764814 0.80990709]\n",
      " [0.83103909 0.86974102 0.61680358 0.51712243 0.75466705 0.38416414\n",
      "  0.65269962 0.38681707 0.55303423 0.98964664]\n",
      " [0.61422952 0.9960456  0.85338023 0.55910883 0.25488323 0.85851757\n",
      "  0.55893684 0.50802521 0.63726521 0.82039102]\n",
      " [0.34242066 0.96173045 0.73388399 0.74561779 0.67519368 0.51464128\n",
      "  0.00290946 0.20280641 0.29985225 0.89462912]\n",
      " [0.63782565 0.51006815 0.36785811 0.06481669 0.57144309 0.40545482\n",
      "  0.62699549 0.30123189 0.85830476 0.68371165]\n",
      " [0.58396226 0.69130919 0.72828128 0.50827528 0.99526631 0.57699176\n",
      "  0.91207627 0.1829032  0.65689589 0.22827515]\n",
      " [0.27354263 0.99152201 0.07512248 0.95488863 0.72108698 0.01502607\n",
      "  0.71894572 0.38901717 0.43825405 0.3634158 ]\n",
      " [0.92410265 0.66862533 0.64341636 0.56000184 0.29701716 0.60735619\n",
      "  0.91648161 0.32013535 0.60136334 0.43766439]\n",
      " [0.64796758 0.60757437 0.33284189 0.3423572  0.9202329  0.68214252\n",
      "  0.06546542 0.64352554 0.75198672 0.0592615 ]]\n"
     ]
    },
    {
     "data": {
      "text/plain": [
       "(10, 10)"
      ]
     },
     "execution_count": 3,
     "metadata": {},
     "output_type": "execute_result"
    }
   ],
   "source": [
    "import numpy as np\n",
    "arr = np.random.rand(10,10)\n",
    "print(arr)\n",
    "arr.shape"
   ]
  },
  {
   "cell_type": "code",
   "execution_count": null,
   "id": "77120cb1",
   "metadata": {},
   "outputs": [],
   "source": []
  }
 ],
 "metadata": {
  "kernelspec": {
   "display_name": "Python 3 (ipykernel)",
   "language": "python",
   "name": "python3"
  },
  "language_info": {
   "codemirror_mode": {
    "name": "ipython",
    "version": 3
   },
   "file_extension": ".py",
   "mimetype": "text/x-python",
   "name": "python",
   "nbconvert_exporter": "python",
   "pygments_lexer": "ipython3",
   "version": "3.11.3"
  }
 },
 "nbformat": 4,
 "nbformat_minor": 5
}
