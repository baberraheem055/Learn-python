{
 "cells": [
  {
   "cell_type": "markdown",
   "id": "b5c8593d",
   "metadata": {},
   "source": [
    "\n"
   ]
  },
  {
   "cell_type": "markdown",
   "id": "a8377fb7",
   "metadata": {},
   "source": [
    "# Dictionaries\n",
    "- also known as Maps , Hashtable , Associated array\n",
    "- In Python, a dictionary is a mutable, unordered collection of items where each item is stored as a key-value pair.\n",
    "    - Mutable: Dictionaries can be modified after creation, allowing for the addition, deletion, and modification of key-value pairs.\n",
    "     - Unordered: As of Python 3.7, dictionaries maintain the insertion order of keys, but this is not a feature to rely on for behavior in earlier versions.\n",
    "- Dictionaries are optimized to retrieve values when the key is known.\n",
    "- Key-Value Pairs: Each key in a dictionary must be unique and immutable (e.g., strings, numbers, tuples), while values can be of any data type.\n",
    "- remember: tuples and lists are ordered where dictionaries are unordered"
   ]
  },
  {
   "cell_type": "code",
   "execution_count": 16,
   "id": "1f020aec",
   "metadata": {},
   "outputs": [
    {
     "name": "stdout",
     "output_type": "stream",
     "text": [
      "3079893549\n",
      "3079893549\n"
     ]
    }
   ],
   "source": [
    "#example \n",
    "mydec = {\"baber\": 3079893549,\"shayan\": 3052312883}\n",
    "\n",
    "# printing the value of dictionary---> dictionary_name[key]\n",
    "print(mydec['baber'])\n",
    "\n",
    "#anther way of gitting the key of dictionary\n",
    "print(mydec.get('baber')) #3079893549\n"
   ]
  },
  {
   "cell_type": "code",
   "execution_count": 11,
   "id": "8a34addc",
   "metadata": {},
   "outputs": [
    {
     "name": "stdout",
     "output_type": "stream",
     "text": [
      "200\n",
      "22mdbcs241\n",
      "A\n",
      "\n",
      "THROUGH ITERATION\n",
      "200\n",
      "22mdbcs241\n",
      "A\n"
     ]
    }
   ],
   "source": [
    " #dictionary with mixed key\n",
    "dict = {\"MARKS\":200, 1 : \"22mdbcs241\", \"GRADE\" : 'A'}\n",
    "print(dict[\"MARKS\"])\n",
    "print(dict[1])\n",
    "print(dict[\"GRADE\"])\n",
    "\n",
    "#LETS iterate \n",
    "print(\"\\nTHROUGH ITERATION\")\n",
    "for key in dict:\n",
    "    print(dict[key])\n",
    "    \n"
   ]
  },
  {
   "cell_type": "markdown",
   "id": "86e50a94",
   "metadata": {},
   "source": [
    "### dictionary with a list of tuples"
   ]
  },
  {
   "cell_type": "code",
   "execution_count": 15,
   "id": "071e8970",
   "metadata": {},
   "outputs": [
    {
     "name": "stdout",
     "output_type": "stream",
     "text": [
      "([(1, 'baber')], [(2, 'shayan')])\n"
     ]
    }
   ],
   "source": [
    "mydic = ([(1,\"baber\")],[(2,\"shayan\")])\n",
    "print(mydic[:])"
   ]
  },
  {
   "cell_type": "markdown",
   "id": "4a818db0",
   "metadata": {},
   "source": [
    "### Add or Modify the element of dic"
   ]
  },
  {
   "cell_type": "code",
   "execution_count": 21,
   "id": "64e17a88",
   "metadata": {},
   "outputs": [
    {
     "name": "stdout",
     "output_type": "stream",
     "text": [
      "zeshan\n",
      "shayan\n"
     ]
    }
   ],
   "source": [
    "#update the value of key\n",
    "mydic = {}\n",
    "mydic = {1:'baber',2:\"raheem\"}\n",
    "mydic[1] = \"zeshan\"\n",
    "print(mydic[1])\n",
    "\n",
    "#add a new key\n",
    "mydic[3] = \"shayan\"\n",
    "print(mydic[3])"
   ]
  },
  {
   "cell_type": "markdown",
   "id": "94e0b29f",
   "metadata": {},
   "source": [
    "### delete or remove element from dictionary\n",
    "- to delete a particular item\n",
    "  - dictionary_name.pop(key)  \n",
    " \n",
    "- to remove an arbitarty key\n",
    "   - mydic.popitem()\n",
    "   \n",
    "- to delete a particular item\n",
    "  - del dictionray_name[key]\n",
    "  \n",
    "- to remove all the elements of dictionary\n",
    "    - dictionary_name.clear()      \n",
    "    - this delete the entire dictionary including name of dictionary"
   ]
  },
  {
   "cell_type": "code",
   "execution_count": 26,
   "id": "d5545c48",
   "metadata": {},
   "outputs": [
    {
     "name": "stdout",
     "output_type": "stream",
     "text": [
      "{1: 'ali', 3: 'tayyab', 4: 'shayan'}\n",
      "{1: 'ali', 4: 'shayan'}\n",
      "{}\n"
     ]
    }
   ],
   "source": [
    "mydec = {1:\"ali\",2:\"baber\",3:\"tayyab\",4:\"shayan\"}\n",
    "\n",
    "mydec.pop(2)  #have deleted key 2\n",
    "print(mydec)\n",
    "\n",
    "del mydec[3]\n",
    "print(mydec)\n",
    "\n",
    "#to delete the entire dictionary\n",
    "mydec.clear()\n",
    "print(mydec)       #the dictionary is completely empty"
   ]
  },
  {
   "cell_type": "code",
   "execution_count": null,
   "id": "868d5ff4",
   "metadata": {},
   "outputs": [],
   "source": []
  }
 ],
 "metadata": {
  "kernelspec": {
   "display_name": "Python 3 (ipykernel)",
   "language": "python",
   "name": "python3"
  },
  "language_info": {
   "codemirror_mode": {
    "name": "ipython",
    "version": 3
   },
   "file_extension": ".py",
   "mimetype": "text/x-python",
   "name": "python",
   "nbconvert_exporter": "python",
   "pygments_lexer": "ipython3",
   "version": "3.11.3"
  }
 },
 "nbformat": 4,
 "nbformat_minor": 5
}
