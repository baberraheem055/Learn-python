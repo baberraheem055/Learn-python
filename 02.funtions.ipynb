{
 "cells": [
  {
   "cell_type": "markdown",
   "id": "bd4b2a6b",
   "metadata": {},
   "source": [
    "## Function\n",
    "Functions in Python are blocks of reusable code that perform a specific task. They help in organizing and structuring your code, making it more readable, maintainable, and reusable.\n"
   ]
  },
  {
   "cell_type": "code",
   "execution_count": 1,
   "id": "4b12e6b4",
   "metadata": {},
   "outputs": [],
   "source": [
    "#syntax\n",
    "def function_name(parameters):\n",
    "    # Code block\n",
    "    return value"
   ]
  },
  {
   "cell_type": "markdown",
   "id": "97bbdd11",
   "metadata": {},
   "source": [
    "#lets understand the function through an example\n",
    "### problem\n",
    "lets we have a two lists and we have to find the total expenses of each list"
   ]
  },
  {
   "cell_type": "code",
   "execution_count": 4,
   "id": "21b76e3c",
   "metadata": {},
   "outputs": [
    {
     "name": "stdout",
     "output_type": "stream",
     "text": [
      "total home expenses are : 14410\n",
      "total shop expenses are : 7334\n"
     ]
    }
   ],
   "source": [
    "home_expense = [3432,3423,5432,2123]\n",
    "shop_expense = [4323,456,432,2123]\n",
    "\n",
    "#let define a funtion to add each list items\n",
    "\n",
    "# total = 0  global varibale\n",
    "def total_expenses(exp):\n",
    "\n",
    "    for i in range(len(exp)): \n",
    "        total += exp[i]\n",
    "    return total\n",
    "    \n",
    "home_expense = total_expenses(home_expense)\n",
    "shop_expense = total_expenses(shop_expense)\n",
    "print(\"total home expenses are :\",home_expense)\n",
    "print(\"total shop expenses are :\",shop_expense)"
   ]
  },
  {
   "cell_type": "markdown",
   "id": "e5a0955c",
   "metadata": {},
   "source": [
    "## argument in a functions\n",
    "An argument in a function refers to the actual value or data that is passed to the function when it is called. Arguments provide the input to the function"
   ]
  },
  {
   "cell_type": "markdown",
   "id": "312ccaf1",
   "metadata": {},
   "source": [
    "### Types of argument\n",
    "- Positional Arguments:\n",
    "- Keyword Arguments:\n",
    "- Default Arguments:\n",
    "- Variable-Length Arguments:"
   ]
  },
  {
   "cell_type": "markdown",
   "id": "366dc7db",
   "metadata": {},
   "source": [
    "### Positional Arguments:\n",
    "- These are the most common type of arguments.\n",
    "- Their values are assigned to parameters based on their position in the function call."
   ]
  },
  {
   "cell_type": "code",
   "execution_count": 1,
   "id": "e421790c",
   "metadata": {},
   "outputs": [
    {
     "name": "stdout",
     "output_type": "stream",
     "text": [
      "the total cost of the two items is : 1500\n"
     ]
    }
   ],
   "source": [
    "#example\n",
    "def sum(item1,item2):\n",
    "    return item1+item2\n",
    "\n",
    "print(\"the total cost of the two items is :\",sum(500,1000))"
   ]
  },
  {
   "cell_type": "markdown",
   "id": "b47d7170",
   "metadata": {},
   "source": [
    "### Keyword Arguments:\n",
    "These arguments are specified by explicitly naming the parameter in the function call, allowing for clearer and more flexible function calls."
   ]
  },
  {
   "cell_type": "code",
   "execution_count": 3,
   "id": "84644318",
   "metadata": {},
   "outputs": [
    {
     "name": "stdout",
     "output_type": "stream",
     "text": [
      "the total cost of the two items is : 500\n"
     ]
    }
   ],
   "source": [
    "#example \n",
    "def subt(item1,item2):\n",
    "    return item1-item2\n",
    "\n",
    "print(\"the total cost of the two items is :\",subt(item2 = 500,item1 = 1000))"
   ]
  },
  {
   "cell_type": "markdown",
   "id": "7dbc96d4",
   "metadata": {},
   "source": [
    "### Default Arguments:\n",
    "\n",
    "These are arguments that assume a default value if no value is provided in the function call.\n",
    "\n"
   ]
  },
  {
   "cell_type": "code",
   "execution_count": 12,
   "id": "7e48ef69",
   "metadata": {},
   "outputs": [
    {
     "name": "stdout",
     "output_type": "stream",
     "text": [
      "you have passed the Test\n",
      "you have failed the Test\n"
     ]
    }
   ],
   "source": [
    "#example\n",
    "\n",
    "def IELTS_TEST(score = 0):\n",
    "    if score == 0 or score <= 50:\n",
    "        print(\"you have failed the Test\")\n",
    "    else:\n",
    "        print(\"you have passed the Test\")\n",
    "        \n",
    "IELTS_TEST(score = 56)\n",
    "IELTS_TEST(score)      #you have failed the Test becaose of default arguments"
   ]
  },
  {
   "cell_type": "markdown",
   "id": "3d20cf46",
   "metadata": {},
   "source": [
    "### Variable-Length Arguments:\n",
    "\n",
    "These allow a function to accept an arbitrary number of arguments. \n",
    "- There are two types:\n",
    "    1. *args for non-keyword arguments \n",
    "    2. **kwargs for keyword arguments.\n",
    "\n"
   ]
  },
  {
   "cell_type": "code",
   "execution_count": 14,
   "id": "ba69ac3c",
   "metadata": {},
   "outputs": [
    {
     "name": "stdout",
     "output_type": "stream",
     "text": [
      "good health\n",
      "not good health condition\n"
     ]
    }
   ],
   "source": [
    "#example of type 1\n",
    "def Healthy_Person(*args):\n",
    "    for health_status in args:\n",
    "        if health_status != \"good\":\n",
    "            print(\"not good health condition\")\n",
    "            return\n",
    "        \n",
    "    print(\"good health\")\n",
    "\n",
    "Healthy_Person(\"good\",\"good\",\"good\")        #here we can pass multiple number of arguments\n",
    "Healthy_Person(\"good\",\"not\",\"good\",\"not\")   \n",
    "    \n",
    "    \n",
    "    \n",
    "#example 2\n",
    "\n",
    "def greet_people(*args):\n",
    "    for name in args:\n",
    "        print(f\"Hello, {name}!\")\n",
    "\n",
    "greet_people(\"Alice\", \"Bob\", \"Charlie\")  # Output: Hello, Alice! \\n Hello, Bob! \\n Hello, Charlie!"
   ]
  },
  {
   "cell_type": "markdown",
   "id": "cde63058",
   "metadata": {},
   "source": [
    "#### kwargs for keyword arguments.\n",
    "Allows a function to accept an arbitrary number of keyword arguments.\n",
    "- Keyword arguments in Python refer to arguments that are passed to a function using a specific keyword (or parameter name) along with a corresponding value.\n"
   ]
  },
  {
   "cell_type": "code",
   "execution_count": 1,
   "id": "9fd2694f",
   "metadata": {},
   "outputs": [
    {
     "name": "stdout",
     "output_type": "stream",
     "text": [
      "name: Alice\n",
      "age: 30\n",
      "city: New York\n",
      "occupation: Engineer\n"
     ]
    }
   ],
   "source": [
    "#example\n",
    "def print_person_info(**kwarg):\n",
    "    for key, value in kwarg.items():\n",
    "        print(f\"{key}: {value}\")     #formated string\n",
    "\n",
    "# Example usage\n",
    "print_person_info(name=\"Alice\", age=30, city=\"New York\", occupation=\"Engineer\")\n"
   ]
  },
  {
   "cell_type": "markdown",
   "id": "a2662916",
   "metadata": {},
   "source": [
    "# Types of Functions"
   ]
  },
  {
   "cell_type": "markdown",
   "id": "391a329d",
   "metadata": {},
   "source": [
    "## abs()\n",
    "this is built in funtion which find the absoult value."
   ]
  },
  {
   "cell_type": "code",
   "execution_count": 16,
   "id": "f6fa4932",
   "metadata": {},
   "outputs": [
    {
     "name": "stdout",
     "output_type": "stream",
     "text": [
      "0.5\n"
     ]
    }
   ],
   "source": [
    "length = - 0.5\n",
    "print(abs(length))"
   ]
  },
  {
   "cell_type": "markdown",
   "id": "c7942d55",
   "metadata": {},
   "source": [
    "## dir()\n",
    "this tries to return a list of valid attributes of the object\n"
   ]
  },
  {
   "cell_type": "code",
   "execution_count": 1,
   "id": "35fbdf41",
   "metadata": {},
   "outputs": [
    {
     "name": "stdout",
     "output_type": "stream",
     "text": [
      "['__add__', '__class__', '__class_getitem__', '__contains__', '__delattr__', '__delitem__', '__dir__', '__doc__', '__eq__', '__format__', '__ge__', '__getattribute__', '__getitem__', '__getstate__', '__gt__', '__hash__', '__iadd__', '__imul__', '__init__', '__init_subclass__', '__iter__', '__le__', '__len__', '__lt__', '__mul__', '__ne__', '__new__', '__reduce__', '__reduce_ex__', '__repr__', '__reversed__', '__rmul__', '__setattr__', '__setitem__', '__sizeof__', '__str__', '__subclasshook__', 'append', 'clear', 'copy', 'count', 'extend', 'index', 'insert', 'pop', 'remove', 'reverse', 'sort']\n"
     ]
    }
   ],
   "source": [
    "\n",
    "list1 = [1,2,3,4]\n",
    "print(dir(list1))"
   ]
  },
  {
   "cell_type": "markdown",
   "id": "50c8cd8c",
   "metadata": {},
   "source": [
    "## divmod()\n",
    "this return the quotient and the reminder in the form of tuple.."
   ]
  },
  {
   "cell_type": "code",
   "execution_count": 2,
   "id": "5638339f",
   "metadata": {},
   "outputs": [
    {
     "name": "stdout",
     "output_type": "stream",
     "text": [
      "(6, 0)\n"
     ]
    }
   ],
   "source": [
    "#example\n",
    "\n",
    "print(divmod(18,3))"
   ]
  },
  {
   "cell_type": "markdown",
   "id": "18ed321c",
   "metadata": {},
   "source": [
    "## enumerate()\n",
    "- this will retrun the index along the its value on list or somewhere other...\n",
    "- enumerate(iterable,start = 0)"
   ]
  },
  {
   "cell_type": "code",
   "execution_count": 6,
   "id": "0a6a0519",
   "metadata": {},
   "outputs": [
    {
     "name": "stdout",
     "output_type": "stream",
     "text": [
      "the index 0 have a value 1\n",
      "the index 1 have a value 4\n",
      "the index 2 have a value 3\n",
      "the index 3 have a value 4\n",
      "the index 4 have a value 5\n",
      "1\n",
      "4\n",
      "3\n",
      "4\n",
      "5\n"
     ]
    }
   ],
   "source": [
    "numbers = [1,4,3,4,5]\n",
    "\n",
    "for index, num in enumerate(numbers):\n",
    "    print(f\"the index {index} have a value {num}\")\n",
    "    \n",
    "    \n",
    "#in normal case we can't display both the element and its index of iterable;\n",
    "\n",
    "for i in numbers:\n",
    "    print(i)"
   ]
  },
  {
   "cell_type": "markdown",
   "id": "411b0921",
   "metadata": {},
   "source": [
    "## filter funtion\n",
    "\n",
    "The filter() function in Python is used to construct an iterator(tuple,lists etc) from elements of an iterable for which a function returns true. In simpler terms, it filters the given iterable (e.g., list, tuple) and returns list of only those  elements that satisfy a certain condition.\n",
    "\n",
    "- syntax\n",
    "- filter(funtion , iterable)\n",
    "  - function: A function that tests if each element of an iterable is true or false.\n",
    "  - iterable: The iterable (e.g., list, tuple) to be filtered.\n"
   ]
  },
  {
   "cell_type": "code",
   "execution_count": 1,
   "id": "d7ffa084",
   "metadata": {},
   "outputs": [
    {
     "name": "stdout",
     "output_type": "stream",
     "text": [
      "[2, 4, 6]\n"
     ]
    }
   ],
   "source": [
    "#example\n",
    "\n",
    "def is_even(number):\n",
    "    \n",
    "    return number % 2 == 0\n",
    "        \n",
    "\n",
    "number = [1,2,3,4,5,6]\n",
    "\n",
    "# even_numbers = filter(is_even,number) #methord 1\n",
    "# print(list(even_numbers))\n",
    "\n",
    "print(list(filter(is_even,number)))      #methord 2\n"
   ]
  },
  {
   "cell_type": "code",
   "execution_count": null,
   "id": "c8030b75",
   "metadata": {},
   "outputs": [],
   "source": []
  }
 ],
 "metadata": {
  "kernelspec": {
   "display_name": "Python 3 (ipykernel)",
   "language": "python",
   "name": "python3"
  },
  "language_info": {
   "codemirror_mode": {
    "name": "ipython",
    "version": 3
   },
   "file_extension": ".py",
   "mimetype": "text/x-python",
   "name": "python",
   "nbconvert_exporter": "python",
   "pygments_lexer": "ipython3",
   "version": "3.11.3"
  }
 },
 "nbformat": 4,
 "nbformat_minor": 5
}
