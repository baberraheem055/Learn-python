{
 "cells": [
  {
   "cell_type": "markdown",
   "id": "2453065a",
   "metadata": {},
   "source": [
    "\n",
    "# Modules"
   ]
  },
  {
   "cell_type": "markdown",
   "id": "b3111260",
   "metadata": {},
   "source": [
    "modules refers to python file which contain a python statements and definitions \n",
    "\n",
    "### use of modules \n",
    "- we use modules to break down large programs into small manageable and organized files.\n",
    "- provide reuseability of code\n",
    "- we can also define our most used funtion in module and import it. instead of copying their definiation into different programs\n"
   ]
  },
  {
   "cell_type": "markdown",
   "id": "cb6fba76",
   "metadata": {},
   "source": [
    "## how to import module\n",
    "- we use \"import\" keyword to import our module in python"
   ]
  },
  {
   "cell_type": "code",
   "execution_count": 1,
   "id": "d7eb58b7",
   "metadata": {},
   "outputs": [
    {
     "name": "stdout",
     "output_type": "stream",
     "text": [
      "3.141592653589793\n"
     ]
    }
   ],
   "source": [
    "import math\n",
    "print(math.pi)"
   ]
  },
  {
   "cell_type": "markdown",
   "id": "2e80d7c8",
   "metadata": {},
   "source": [
    "### renaming module"
   ]
  },
  {
   "cell_type": "code",
   "execution_count": 2,
   "id": "d08a110d",
   "metadata": {},
   "outputs": [
    {
     "name": "stdout",
     "output_type": "stream",
     "text": [
      "3.141592653589793\n"
     ]
    }
   ],
   "source": [
    "import math as mt\n",
    "print(mt.pi)"
   ]
  },
  {
   "cell_type": "markdown",
   "id": "703e3ba5",
   "metadata": {},
   "source": [
    "## from .... import statement\n",
    "- we can import a specific names from module without importing the module as a whole"
   ]
  },
  {
   "cell_type": "code",
   "execution_count": 4,
   "id": "6dbc4af9",
   "metadata": {},
   "outputs": [
    {
     "data": {
      "text/plain": [
       "datetime.datetime(2024, 6, 13, 2, 56, 15, 935305)"
      ]
     },
     "execution_count": 4,
     "metadata": {},
     "output_type": "execute_result"
    }
   ],
   "source": [
    "from datetime import datetime\n",
    "datetime.now() #to print the current time "
   ]
  },
  {
   "cell_type": "markdown",
   "id": "330d98fd",
   "metadata": {},
   "source": [
    "## to import all the names fo the module"
   ]
  },
  {
   "cell_type": "code",
   "execution_count": 5,
   "id": "f8303728",
   "metadata": {},
   "outputs": [
    {
     "name": "stdout",
     "output_type": "stream",
     "text": [
      "3.141592653589793\n"
     ]
    }
   ],
   "source": [
    "from math import *       #means import math = from math import math\n",
    "print(math.pi)"
   ]
  },
  {
   "cell_type": "markdown",
   "id": "fb8e2c07",
   "metadata": {},
   "source": [
    "## dir() funtion"
   ]
  },
  {
   "cell_type": "code",
   "execution_count": 6,
   "id": "01c3c792",
   "metadata": {},
   "outputs": [
    {
     "data": {
      "text/plain": [
       "['__doc__',\n",
       " '__loader__',\n",
       " '__name__',\n",
       " '__package__',\n",
       " '__spec__',\n",
       " 'acos',\n",
       " 'acosh',\n",
       " 'asin',\n",
       " 'asinh',\n",
       " 'atan',\n",
       " 'atan2',\n",
       " 'atanh',\n",
       " 'cbrt',\n",
       " 'ceil',\n",
       " 'comb',\n",
       " 'copysign',\n",
       " 'cos',\n",
       " 'cosh',\n",
       " 'degrees',\n",
       " 'dist',\n",
       " 'e',\n",
       " 'erf',\n",
       " 'erfc',\n",
       " 'exp',\n",
       " 'exp2',\n",
       " 'expm1',\n",
       " 'fabs',\n",
       " 'factorial',\n",
       " 'floor',\n",
       " 'fmod',\n",
       " 'frexp',\n",
       " 'fsum',\n",
       " 'gamma',\n",
       " 'gcd',\n",
       " 'hypot',\n",
       " 'inf',\n",
       " 'isclose',\n",
       " 'isfinite',\n",
       " 'isinf',\n",
       " 'isnan',\n",
       " 'isqrt',\n",
       " 'lcm',\n",
       " 'ldexp',\n",
       " 'lgamma',\n",
       " 'log',\n",
       " 'log10',\n",
       " 'log1p',\n",
       " 'log2',\n",
       " 'modf',\n",
       " 'nan',\n",
       " 'nextafter',\n",
       " 'perm',\n",
       " 'pi',\n",
       " 'pow',\n",
       " 'prod',\n",
       " 'radians',\n",
       " 'remainder',\n",
       " 'sin',\n",
       " 'sinh',\n",
       " 'sqrt',\n",
       " 'tan',\n",
       " 'tanh',\n",
       " 'tau',\n",
       " 'trunc',\n",
       " 'ulp']"
      ]
     },
     "execution_count": 6,
     "metadata": {},
     "output_type": "execute_result"
    }
   ],
   "source": [
    "dir(math)"
   ]
  },
  {
   "cell_type": "code",
   "execution_count": null,
   "id": "b3dac280",
   "metadata": {},
   "outputs": [],
   "source": []
  }
 ],
 "metadata": {
  "kernelspec": {
   "display_name": "Python 3 (ipykernel)",
   "language": "python",
   "name": "python3"
  },
  "language_info": {
   "codemirror_mode": {
    "name": "ipython",
    "version": 3
   },
   "file_extension": ".py",
   "mimetype": "text/x-python",
   "name": "python",
   "nbconvert_exporter": "python",
   "pygments_lexer": "ipython3",
   "version": "3.11.3"
  }
 },
 "nbformat": 4,
 "nbformat_minor": 5
}
