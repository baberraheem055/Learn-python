{
 "cells": [
  {
   "cell_type": "code",
   "execution_count": 11,
   "id": "90a048ec",
   "metadata": {},
   "outputs": [
    {
     "name": "stdout",
     "output_type": "stream",
     "text": [
      "> \u001b[1;32mc:\\users\\babar raheem\\appdata\\local\\temp\\ipykernel_9664\\3023996224.py\u001b[0m(8)\u001b[0;36meven_num\u001b[1;34m()\u001b[0m\n",
      "\n",
      "ipdb> p locals\n",
      "<built-in function locals>\n",
      "ipdb> continue\n",
      "> \u001b[1;32mc:\\users\\babar raheem\\appdata\\local\\temp\\ipykernel_9664\\3023996224.py\u001b[0m(8)\u001b[0;36meven_num\u001b[1;34m()\u001b[0m\n",
      "\n",
      "ipdb> p locals()\n",
      "{'n': 10, 'even_num_list': [0], 'i': 2}\n",
      "ipdb> c\n",
      "> \u001b[1;32mc:\\users\\babar raheem\\appdata\\local\\temp\\ipykernel_9664\\3023996224.py\u001b[0m(8)\u001b[0;36meven_num\u001b[1;34m()\u001b[0m\n",
      "\n",
      "ipdb> p locals()\n",
      "{'n': 10, 'even_num_list': [0, 2], 'i': 4}\n",
      "ipdb> c\n",
      "> \u001b[1;32mc:\\users\\babar raheem\\appdata\\local\\temp\\ipykernel_9664\\3023996224.py\u001b[0m(8)\u001b[0;36meven_num\u001b[1;34m()\u001b[0m\n",
      "\n",
      "ipdb> p\n",
      "*** SyntaxError: invalid syntax\n",
      "ipdb> p print()\n",
      "\n",
      "None\n",
      "ipdb> continue\n",
      "> \u001b[1;32mc:\\users\\babar raheem\\appdata\\local\\temp\\ipykernel_9664\\3023996224.py\u001b[0m(8)\u001b[0;36meven_num\u001b[1;34m()\u001b[0m\n",
      "\n",
      "ipdb> p locals()\n",
      "{'n': 10, 'even_num_list': [0, 2, 4, 6], 'i': 8}\n",
      "ipdb> continous\n",
      "*** NameError: name 'continous' is not defined\n",
      "ipdb> q\n"
     ]
    }
   ],
   "source": [
    "import pdb\n",
    "\n",
    "def even_num(n):\n",
    "    even_num_list = []\n",
    "    for i in range(n):\n",
    "        if i%2 == 0:\n",
    "            pdb.set_trace()\n",
    "            even_num_list.append(i)\n",
    "    return even_num_list\n",
    "\n",
    "print(\"even numbers\",even_num(10))"
   ]
  },
  {
   "cell_type": "code",
   "execution_count": 10,
   "id": "2646e7b2",
   "metadata": {},
   "outputs": [],
   "source": [
    "#c: continue\n",
    "#q: quit\n",
    "#h: help\n",
    "#list\n",
    "#p: print\n",
    "#p locals()\n",
    "#p globals()"
   ]
  },
  {
   "cell_type": "code",
   "execution_count": null,
   "id": "6ecfbada",
   "metadata": {},
   "outputs": [],
   "source": []
  }
 ],
 "metadata": {
  "kernelspec": {
   "display_name": "Python 3 (ipykernel)",
   "language": "python",
   "name": "python3"
  },
  "language_info": {
   "codemirror_mode": {
    "name": "ipython",
    "version": 3
   },
   "file_extension": ".py",
   "mimetype": "text/x-python",
   "name": "python",
   "nbconvert_exporter": "python",
   "pygments_lexer": "ipython3",
   "version": "3.11.3"
  }
 },
 "nbformat": 4,
 "nbformat_minor": 5
}
