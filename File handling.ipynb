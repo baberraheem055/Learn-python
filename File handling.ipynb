{
 "cells": [
  {
   "cell_type": "markdown",
   "id": "5b677a30",
   "metadata": {},
   "source": [
    "# File operations\n",
    "    - Open a file\n",
    "    - Read or Write(operation on file)\n",
    "    - Close the file"
   ]
  },
  {
   "cell_type": "markdown",
   "id": "f4126ef1",
   "metadata": {},
   "source": [
    "## to create a new file"
   ]
  },
  {
   "cell_type": "code",
   "execution_count": null,
   "id": "2c08d149",
   "metadata": {},
   "outputs": [],
   "source": [
    "#to create a new file \n",
    "myfile = open(\"intro.txt\", \"x\")  #if the file already exits it fails\n"
   ]
  },
  {
   "cell_type": "markdown",
   "id": "125fa5f0",
   "metadata": {},
   "source": [
    "###  Opening a file in write mode"
   ]
  },
  {
   "cell_type": "code",
   "execution_count": 1,
   "id": "61ef22ad",
   "metadata": {},
   "outputs": [],
   "source": [
    "\n",
    "#'w' this mode also create a new file if it does't exit or trancate if exits\n",
    "# myfile = open(\"intro.txt\", \"w\")\n",
    "\n",
    "#openning a file for appending a text at the end of the file without truncating it ...\n",
    "# f = open(\"intro.txt\", \"a\")\n",
    "# f.write(\"helloo! guys. introduce yourself one by one\")\n",
    "\n",
    "f = open(\"intro.txt\", \"w\")\n",
    "f.write(\"helloo! guys. introduce yourself one by one\")\n",
    "f.write(\"helloo! guys. My name is baber raheem i am studying in 4th semester\")\n",
    "\n",
    "#to read a file\n",
    "f = open(\"intro.txt\",'r')\n",
    "f.read()\n",
    "\n",
    "#to close a file\n",
    "f.close()"
   ]
  },
  {
   "cell_type": "code",
   "execution_count": 3,
   "id": "f637f336",
   "metadata": {},
   "outputs": [
    {
     "data": {
      "text/plain": [
       "'helloo! guys. introduce yourself one by onehelloo! guys. My name is baber raheem i am studying in 4th semester'"
      ]
     },
     "execution_count": 3,
     "metadata": {},
     "output_type": "execute_result"
    }
   ],
   "source": [
    "f = open(\"intro.txt\",'r')\n",
    "f.read()"
   ]
  },
  {
   "cell_type": "code",
   "execution_count": 12,
   "id": "84572e16",
   "metadata": {},
   "outputs": [
    {
     "name": "stdout",
     "output_type": "stream",
     "text": [
      "helloo! guys. introduce yourself one by onehelloo! guys. My name is baber raheem i am studying in 4th semester\n"
     ]
    }
   ],
   "source": [
    "f.tell() #return the current file cursor position\n",
    "f.seek(0) #bring the file coursor to initial position\n",
    "f.readlines() #to read a line up to end, output in a list \n",
    "\n",
    "#reading a file through loop\n",
    "f.seek(0)\n",
    "for line in f:\n",
    "    print(line)\n",
    "    \n",
    "f.close()"
   ]
  },
  {
   "cell_type": "markdown",
   "id": "f874ac77",
   "metadata": {},
   "source": [
    "## Renaming and Deleting a file in python"
   ]
  },
  {
   "cell_type": "code",
   "execution_count": 13,
   "id": "78f4d3e1",
   "metadata": {},
   "outputs": [],
   "source": [
    "import os \n",
    "os.rename(\"intro.txt\",\"introduction.txt\")"
   ]
  },
  {
   "cell_type": "code",
   "execution_count": 14,
   "id": "acb345f0",
   "metadata": {},
   "outputs": [
    {
     "data": {
      "text/plain": [
       "'helloo! guys. introduce yourself one by onehelloo! guys. My name is baber raheem i am studying in 4th semester'"
      ]
     },
     "execution_count": 14,
     "metadata": {},
     "output_type": "execute_result"
    }
   ],
   "source": [
    "f = open(\"introduction.txt\",\"r\")\n",
    "f.read()\n",
    "\n",
    "#To delete a file\n",
    "#os.remove(filename) #this funtion will delete a file"
   ]
  },
  {
   "cell_type": "markdown",
   "id": "05000d34",
   "metadata": {},
   "source": [
    "## to get current working directory\n",
    "\n"
   ]
  },
  {
   "cell_type": "code",
   "execution_count": 20,
   "id": "6f6e4dff",
   "metadata": {},
   "outputs": [
    {
     "data": {
      "text/plain": [
       "'C:\\\\Users\\\\Babar Raheem\\\\Learn Python'"
      ]
     },
     "execution_count": 20,
     "metadata": {},
     "output_type": "execute_result"
    }
   ],
   "source": [
    "import os \n",
    "os.getcwd()\n",
    "\n",
    "#all the funtions of os \n",
    "# dir(os) "
   ]
  },
  {
   "cell_type": "markdown",
   "id": "af16e566",
   "metadata": {},
   "source": [
    "## changing Directory\n"
   ]
  },
  {
   "cell_type": "code",
   "execution_count": 28,
   "id": "61145a5f",
   "metadata": {},
   "outputs": [],
   "source": [
    "os.chdir(\"F:\\summer work\")\n",
    "os.getcwd()\n",
    "\n",
    "# f = open(\"demo.xls\",\"r\")     #we can not open these kind of file through this funtions\n",
    "# f.read()  \n",
    "os.chdir(\"C:\\\\Users\\\\Babar Raheem\\\\Learn Python\")\n"
   ]
  },
  {
   "cell_type": "markdown",
   "id": "c061be84",
   "metadata": {},
   "source": [
    "## list directory and files\n",
    "- listdir()"
   ]
  },
  {
   "cell_type": "code",
   "execution_count": 29,
   "id": "0e6b9cc9",
   "metadata": {},
   "outputs": [
    {
     "data": {
      "text/plain": [
       "[' Dictionaries and Tuples.ipynb',\n",
       " '.ipynb_checkpoints',\n",
       " '00.ipynb',\n",
       " '01.ipynb',\n",
       " '02.funtions.ipynb',\n",
       " 'example.txt',\n",
       " 'File handling.ipynb',\n",
       " 'introduction.txt',\n",
       " 'Modules in Python.ipynb',\n",
       " 'object oriented programming .ipynb',\n",
       " 'practise 01.ipynb']"
      ]
     },
     "execution_count": 29,
     "metadata": {},
     "output_type": "execute_result"
    }
   ],
   "source": [
    "os.listdir()\n",
    "os.listdir(os.getcwd()) #to open a specific file"
   ]
  },
  {
   "cell_type": "code",
   "execution_count": null,
   "id": "f51df242",
   "metadata": {},
   "outputs": [],
   "source": []
  }
 ],
 "metadata": {
  "kernelspec": {
   "display_name": "Python 3 (ipykernel)",
   "language": "python",
   "name": "python3"
  },
  "language_info": {
   "codemirror_mode": {
    "name": "ipython",
    "version": 3
   },
   "file_extension": ".py",
   "mimetype": "text/x-python",
   "name": "python",
   "nbconvert_exporter": "python",
   "pygments_lexer": "ipython3",
   "version": "3.11.3"
  }
 },
 "nbformat": 4,
 "nbformat_minor": 5
}
